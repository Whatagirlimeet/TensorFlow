{
    "cells": [
        {
            "cell_type": "code",
            "execution_count": 1,
            "metadata": {},
            "outputs": [
                {
                    "name": "stdout",
                    "output_type": "stream",
                    "text": "+--------+-----------+----+---+---+-----+----------+----+----+----+----+-------+-------+-------+-------+-------+-------+-------+-------+-------+----------+-------+--------+--------+-------+\n|   $Date|      $Time|  PV| SP| CV|DP_TC|CONTROL_TC|  OT|WTC1|WTC2|WTC3|   WTC4|   WTC5|   WTC6|   WTC7|   WTC8|   WTC9|  WTC10|  WTC11|  WTC12|CH_MICTORR|CH_MBAR|CH_MTORR|FL_MTORR|GB_AMPS|\n+--------+-----------+----+---+---+-----+----------+----+----+----+----+-------+-------+-------+-------+-------+-------+-------+-------+-------+----------+-------+--------+--------+-------+\n|03/27/21|02:59:16 PM|30.5|  0|  0|169.0|      30.5|31.2|29.9|30.0|30.0|1370.92|1370.92|1370.92|1370.92|1370.92|1370.92|1370.92|1370.92|1370.92|      1000|    840|    1017|      24|      0|\n|03/27/21|03:00:16 PM|27.7|  0|  0|167.9|      27.7|28.3|29.3|29.3|29.0|1370.92|1370.92|1370.92|1370.92|1370.92|1370.92|1370.92|1370.92|1370.92|      1000|    116|    1018|      24|      0|\n|03/27/21|03:01:16 PM|24.8|  0|  0|167.9|      24.8|25.6|28.4|28.5|27.6|1370.92|1370.92|1370.92|1370.92|1370.92|1370.92|1370.92|1370.92|1370.92|      1000|      0|    1018|      24|      0|\n|03/27/21|03:02:16 PM|24.5|  0|  0|166.5|      24.5|25.7|27.0|27.2|25.4|1370.92|1370.92|1370.92|1370.92|1370.92|1370.92|1370.92|1370.92|1370.92|      1000|      0|     353|      24|      0|\n|03/27/21|03:03:16 PM|25.0|  0|  0|166.1|      25.0|26.2|26.4|26.8|24.8|1370.92|1370.92|1370.92|1370.92|1370.92|1370.92|1370.92|1370.92|1370.92|      1000|      0|      99|      24|      0|\n+--------+-----------+----+---+---+-----+----------+----+----+----+----+-------+-------+-------+-------+-------+-------+-------+-------+-------+----------+-------+--------+--------+-------+\nonly showing top 5 rows\n\n"
                },
                {
                    "data": {
                        "text/plain": "configurationName = os_3cb1860ba0d045b5a9012bef1f228b85_configs\nendpoint_3cb1860ba0d045b5a9012bef1f228b85 = https://s3.ap-geo.objectstorage.service.networklayer.com\ncos = com.ibm.ibmos2spark.CloudObjectStorage@27eae3df\nspark = org.apache.spark.sql.SparkSession@f068165c\ndfData1 = [$Date: string, $Time: string ... 23 more fields]\n"
                    },
                    "metadata": {},
                    "output_type": "display_data"
                },
                {
                    "data": {
                        "text/plain": "getCredentials: ()scala.collection.mutable.HashMap[String,String]\n"
                    },
                    "metadata": {},
                    "output_type": "display_data"
                },
                {
                    "data": {
                        "text/plain": "[$Date: string, $Time: string ... 23 more fields]"
                    },
                    "execution_count": 1,
                    "metadata": {},
                    "output_type": "execute_result"
                }
            ],
            "source": "// The code was removed by Watson Studio for sharing."
        },
        {
            "cell_type": "code",
            "execution_count": null,
            "metadata": {},
            "outputs": [],
            "source": ""
        }
    ],
    "metadata": {
        "kernelspec": {
            "display_name": "Scala 2.12 with Spark",
            "language": "scala",
            "name": "scala"
        },
        "language_info": {
            "codemirror_mode": "text/x-scala",
            "file_extension": ".scala",
            "mimetype": "text/x-scala",
            "name": "scala",
            "pygments_lexer": "scala",
            "version": "2.12.12"
        }
    },
    "nbformat": 4,
    "nbformat_minor": 1
}